{
 "cells": [
  {
   "attachments": {},
   "cell_type": "markdown",
   "metadata": {},
   "source": [
    "### 模式识别作业"
   ]
  },
  {
   "attachments": {},
   "cell_type": "markdown",
   "metadata": {},
   "source": [
    "针对iris数据集，编写k近邻树进行类别预测"
   ]
  },
  {
   "cell_type": "code",
   "execution_count": 7,
   "metadata": {},
   "outputs": [],
   "source": [
    "from sklearn.datasets import load_iris\n",
    "import numpy as np"
   ]
  },
  {
   "attachments": {},
   "cell_type": "markdown",
   "metadata": {},
   "source": [
    "读取数据"
   ]
  },
  {
   "cell_type": "code",
   "execution_count": 17,
   "metadata": {},
   "outputs": [
    {
     "name": "stdout",
     "output_type": "stream",
     "text": [
      "(150, 4)\n"
     ]
    }
   ],
   "source": [
    "\n",
    "iris = load_iris()\n",
    "x = iris.data\n",
    "y= iris.target\n",
    "\n",
    "random_index=np.random.choice(x.shape[0],x.shape[0],replace=False)\n",
    "x=x[random_index]\n",
    "y=y[random_index]\n",
    "print(x.shape)"
   ]
  },
  {
   "cell_type": "code",
   "execution_count": 24,
   "metadata": {},
   "outputs": [
    {
     "name": "stdout",
     "output_type": "stream",
     "text": [
      "[[0.41666667 0.29166667 0.49152542 0.45833333]\n",
      " [0.52777778 0.08333333 0.59322034 0.58333333]\n",
      " [0.25       0.625      0.08474576 0.04166667]\n",
      " [0.33333333 0.16666667 0.47457627 0.41666667]\n",
      " [0.08333333 0.5        0.06779661 0.04166667]]\n"
     ]
    }
   ],
   "source": [
    "#归一化\n",
    "x_max=np.max(x,axis=0)\n",
    "x_min=np.min(x,axis=0)\n",
    "x=(x-x_min)/(x_max-x_min)\n",
    "print(x[:5,:])"
   ]
  },
  {
   "cell_type": "code",
   "execution_count": null,
   "metadata": {},
   "outputs": [],
   "source": [
    "#分为样本和预测\n",
    "x_sample=x[:120,:]\n",
    "y_sample=y[:120]\n",
    "x_pre=x[120:,:]\n",
    "y_pre=y[120:,:]"
   ]
  },
  {
   "cell_type": "code",
   "execution_count": null,
   "metadata": {},
   "outputs": [],
   "source": [
    "#定义一个预测方法，输入样本和需要预测的数据，以及k\n",
    "def prediction(x_sample,y_sample,x_pre,k):\n",
    "    #计算x_pre到样本的距离\n",
    "    distance=np.power(x_sample,2)-np.power(y_sample,2)\n",
    "    print(distance)\n",
    "\n",
    "prediction(x_sample,y_sample,x_pre,5)"
   ]
  }
 ],
 "metadata": {
  "kernelspec": {
   "display_name": "Python 3",
   "language": "python",
   "name": "python3"
  },
  "language_info": {
   "codemirror_mode": {
    "name": "ipython",
    "version": 3
   },
   "file_extension": ".py",
   "mimetype": "text/x-python",
   "name": "python",
   "nbconvert_exporter": "python",
   "pygments_lexer": "ipython3",
   "version": "3.9.12"
  },
  "orig_nbformat": 4
 },
 "nbformat": 4,
 "nbformat_minor": 2
}
