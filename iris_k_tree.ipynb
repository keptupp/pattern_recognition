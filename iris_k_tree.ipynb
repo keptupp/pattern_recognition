{
 "cells": [
  {
   "attachments": {},
   "cell_type": "markdown",
   "metadata": {},
   "source": [
    "## K近邻树进行iris数据集的类别预测"
   ]
  },
  {
   "attachments": {},
   "cell_type": "markdown",
   "metadata": {},
   "source": [
    "针对iris数据集，编写k近邻树进行类别预测"
   ]
  },
  {
   "cell_type": "code",
   "execution_count": 16,
   "metadata": {},
   "outputs": [],
   "source": [
    "from sklearn.datasets import load_iris\n",
    "import numpy as np\n",
    "from sklearn.neighbors import KDTree"
   ]
  },
  {
   "attachments": {},
   "cell_type": "markdown",
   "metadata": {},
   "source": [
    "读取数据"
   ]
  },
  {
   "cell_type": "code",
   "execution_count": 17,
   "metadata": {},
   "outputs": [
    {
     "name": "stdout",
     "output_type": "stream",
     "text": [
      "(150, 4)\n",
      "[2 1 2 1 0]\n"
     ]
    }
   ],
   "source": [
    "\n",
    "iris = load_iris()\n",
    "x = iris.data\n",
    "y= iris.target\n",
    "\n",
    "random_index=np.random.choice(x.shape[0],x.shape[0],replace=False)\n",
    "x=x[random_index]\n",
    "y=y[random_index]\n",
    "print(x.shape)\n",
    "print(y[:5])"
   ]
  },
  {
   "cell_type": "code",
   "execution_count": 18,
   "metadata": {},
   "outputs": [
    {
     "name": "stdout",
     "output_type": "stream",
     "text": [
      "[[0.94444444 0.75       0.96610169 0.875     ]\n",
      " [0.5        0.375      0.62711864 0.54166667]\n",
      " [0.55555556 0.33333333 0.69491525 0.58333333]\n",
      " [0.41666667 0.25       0.50847458 0.45833333]\n",
      " [0.41666667 0.83333333 0.03389831 0.04166667]]\n"
     ]
    }
   ],
   "source": [
    "#归一化\n",
    "x_max=np.max(x,axis=0)\n",
    "x_min=np.min(x,axis=0)\n",
    "x=(x-x_min)/(x_max-x_min)\n",
    "print(x[:5,:])"
   ]
  },
  {
   "attachments": {},
   "cell_type": "markdown",
   "metadata": {},
   "source": [
    "分为样本和预测"
   ]
  },
  {
   "cell_type": "code",
   "execution_count": 19,
   "metadata": {},
   "outputs": [],
   "source": [
    "x_sample=x[:120,:]\n",
    "y_sample=y[:120]\n",
    "x_test=x[120:,:]\n",
    "y_test=y[120:]"
   ]
  },
  {
   "cell_type": "code",
   "execution_count": 20,
   "metadata": {},
   "outputs": [
    {
     "name": "stdout",
     "output_type": "stream",
     "text": [
      "预测： [1, 2, 0, 1, 1, 0, 0, 2, 2, 0, 1, 2, 1, 0, 2, 0, 0, 0, 1, 0, 1, 1, 2, 1, 2, 0, 0, 1, 2, 2]\n",
      "实际： [1 2 0 1 1 0 0 2 2 0 1 2 1 0 2 0 0 0 1 0 1 1 2 1 2 0 0 1 2 2]\n",
      "准确率： 1.0\n"
     ]
    }
   ],
   "source": [
    "tree=KDTree(x_sample)\n",
    "dist,index=tree.query(x_test,k=5)\n",
    "y_pre=[]\n",
    "for i in range(len(index)):\n",
    "    ans=np.argmax(np.bincount(y_sample[index[i]]))\n",
    "    y_pre.append(ans)\n",
    "print('预测：',y_pre)\n",
    "print('实际：',y_test)\n",
    "print('准确率：',(y_pre==y_test).sum()/len(y_pre))"
   ]
  }
 ],
 "metadata": {
  "kernelspec": {
   "display_name": "Python 3",
   "language": "python",
   "name": "python3"
  },
  "language_info": {
   "codemirror_mode": {
    "name": "ipython",
    "version": 3
   },
   "file_extension": ".py",
   "mimetype": "text/x-python",
   "name": "python",
   "nbconvert_exporter": "python",
   "pygments_lexer": "ipython3",
   "version": "3.10.4"
  },
  "orig_nbformat": 4
 },
 "nbformat": 4,
 "nbformat_minor": 2
}
